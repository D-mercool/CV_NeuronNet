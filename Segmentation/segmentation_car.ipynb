{
  "nbformat": 4,
  "nbformat_minor": 0,
  "metadata": {
    "colab": {
      "name": "segmentation_car",
      "provenance": [],
      "collapsed_sections": []
    },
    "kernelspec": {
      "name": "python3",
      "display_name": "Python 3"
    },
    "accelerator": "GPU"
  },
  "cells": [
    {
      "cell_type": "code",
      "metadata": {
        "id": "2lQlBjQwfZOA",
        "colab_type": "code",
        "colab": {}
      },
      "source": [
        "import numpy as np\n",
        "import pandas as pd\n",
        "import torch\n",
        "from PIL import Image\n",
        "import zipfile\n",
        "import cv2\n",
        "import os"
      ],
      "execution_count": 0,
      "outputs": []
    },
    {
      "cell_type": "code",
      "metadata": {
        "id": "mHzL6-iig1Jt",
        "colab_type": "code",
        "colab": {}
      },
      "source": [
        "def rle_decode(mask_rle, shape=(1280, 1918, 1)):\n",
        "    \n",
        "    img = np.zeros(shape[0]*shape[1], dtype=np.uint8)\n",
        "\n",
        "    s = mask_rle.split()\n",
        "    starts, lengths = [np.asarray(x, dtype=int) for x in (s[0:][::2], s[1:][::2])]\n",
        "    starts -= 1\n",
        "    ends = starts + lengths    \n",
        "    for lo, hi in zip(starts, ends):\n",
        "        img[lo:hi] = 1\n",
        "        \n",
        "    img = img.reshape(shape)\n",
        "    return img"
      ],
      "execution_count": 0,
      "outputs": []
    },
    {
      "cell_type": "code",
      "metadata": {
        "id": "BxZriRkqfbMh",
        "colab_type": "code",
        "colab": {}
      },
      "source": [
        "z = zipfile.ZipFile('segmentCar_train.zip', 'r')\n",
        "z1 = zipfile.ZipFile('segmentCar_train_masks.zip', 'r')\n",
        "z.extractall('train')\n",
        "z1.extractall('train_masks')\n",
        "\n",
        "listing = os.listdir('train') "
      ],
      "execution_count": 0,
      "outputs": []
    },
    {
      "cell_type": "code",
      "metadata": {
        "id": "LrJPVOnVrbxn",
        "colab_type": "code",
        "colab": {}
      },
      "source": [
        "def extract_img(bath_size):\n",
        "    X = []\n",
        "    X_mask = []\n",
        "    for i in listing[:bath_size]:\n",
        "        im = Image.open('train/' + i)\n",
        "        im = im.resize((256,256))\n",
        "        X.append(np.asarray(im))\n",
        "        \n",
        "        im1 = Image.open('train_masks/' + i[:len(i)-4] + '_mask.gif')\n",
        "        im1 = im1.resize((256,256))\n",
        "        X_mask.append(np.asarray(im1))\n",
        "    \n",
        "    X_mask = np.expand_dims(X_mask, -1)\n",
        "        \n",
        "    X = torch.FloatTensor(X)\n",
        "    X_mask = torch.FloatTensor(X_mask)\n",
        "        \n",
        "    X /= 255.\n",
        "                                 \n",
        "    return X.permute(0, 3, 1, 2), X_mask.permute(0, 3, 1, 2)"
      ],
      "execution_count": 0,
      "outputs": []
    },
    {
      "cell_type": "code",
      "metadata": {
        "id": "wpDdXSuUgFbv",
        "colab_type": "code",
        "outputId": "6742117e-3067-44a3-c454-500241ca38c3",
        "colab": {
          "base_uri": "https://localhost:8080/",
          "height": 34
        }
      },
      "source": [
        "X, X_mask = extract_img(500)\n",
        "\n",
        "X_train = X[:450]\n",
        "y_train = X_mask[:450]\n",
        "X_test = X[450:]\n",
        "y_test = X_mask[450:]\n",
        "device = torch.device(\"cuda:0\" if torch.cuda.is_available() else \"cpu\")\n",
        "device"
      ],
      "execution_count": 0,
      "outputs": [
        {
          "output_type": "execute_result",
          "data": {
            "text/plain": [
              "device(type='cuda', index=0)"
            ]
          },
          "metadata": {
            "tags": []
          },
          "execution_count": 5
        }
      ]
    },
    {
      "cell_type": "code",
      "metadata": {
        "id": "9UqREm2RgMx8",
        "colab_type": "code",
        "outputId": "224b6aff-911a-4a9f-c649-a5b041fe23c9",
        "colab": {
          "base_uri": "https://localhost:8080/",
          "height": 340
        }
      },
      "source": [
        "import matplotlib.pyplot as plt\n",
        "plt.figure(figsize=(20,5))\n",
        "plt.imshow(y_test.permute(0,2,3,1)[0, ..., 0]) #.permute(0,2,3,1)"
      ],
      "execution_count": 0,
      "outputs": [
        {
          "output_type": "execute_result",
          "data": {
            "text/plain": [
              "<matplotlib.image.AxesImage at 0x7f6ae5123ba8>"
            ]
          },
          "metadata": {
            "tags": []
          },
          "execution_count": 6
        },
        {
          "output_type": "display_data",
          "data": {
            "image/png": "[encoded data removed]",
            "text/plain": [
              "<Figure size 1440x360 with 1 Axes>"
            ]
          },
          "metadata": {
            "tags": [],
            "needs_background": "light"
          }
        }
      ]
    },
    {
      "cell_type": "code",
      "metadata": {
        "id": "nWl_Vmv2gNZl",
        "colab_type": "code",
        "outputId": "18111a97-42fb-4884-ca3b-7149ff3013a4",
        "colab": {
          "base_uri": "https://localhost:8080/",
          "height": 34
        }
      },
      "source": [
        "X_train.shape, y_test.shape"
      ],
      "execution_count": 0,
      "outputs": [
        {
          "output_type": "execute_result",
          "data": {
            "text/plain": [
              "(torch.Size([450, 3, 256, 256]), torch.Size([50, 1, 256, 256]))"
            ]
          },
          "metadata": {
            "tags": []
          },
          "execution_count": 7
        }
      ]
    },
    {
      "cell_type": "code",
      "metadata": {
        "id": "8sIc61ESuZGc",
        "colab_type": "code",
        "colab": {}
      },
      "source": [
        "def train(net, batch_size, X_train, y_train, X_test, y_test):\n",
        "    loss = torch.nn.BCELoss()\n",
        "    optimizer = torch.optim.Adam(net.parameters(), lr=1.0e-3)\n",
        "\n",
        "    X_test = X_test.to(device) #Перевод на девайс\n",
        "    y_test = y_test.to(device)\n",
        "\n",
        "    test_accuracy_history = []\n",
        "    test_loss_history = []\n",
        "\n",
        "    for epoch in range(25):\n",
        "        order = np.random.permutation(len(X_train))\n",
        "        for start_index in range(0, len(X_train), batch_size):\n",
        "            optimizer.zero_grad() #Обнуляем градиенты\n",
        "        \n",
        "            batch_indexes = order[start_index:start_index+batch_size] #0:10, 10:20 и т.д\n",
        "        \n",
        "            X_batch = X_train[batch_indexes].to(device)\n",
        "            y_batch = y_train[batch_indexes].to(device)\n",
        "        \n",
        "            preds = net.forward(X_batch) #предсказания\n",
        "        \n",
        "            loss_value = loss(preds,y_batch) #torch.squeeze\n",
        "            loss_value.backward()\n",
        "        \n",
        "            optimizer.step()\n",
        "\n",
        "        #Предсказания\n",
        "        test_preds = net.forward(X_test[:10])\n",
        "        print(loss(test_preds, y_test[:10]))\n",
        "    \n",
        "    del net"
      ],
      "execution_count": 0,
      "outputs": []
    },
    {
      "cell_type": "code",
      "metadata": {
        "id": "XEchmzWGu5Zg",
        "colab_type": "code",
        "colab": {}
      },
      "source": [
        "def show_result(pred, index):\n",
        "    fig, axes = plt.subplots(nrows = 1, ncols = 2, figsize = (10,10))\n",
        "    axes[0].imshow(pred.cpu().detach().numpy()[index, ..., 0] > 0.5)\n",
        "    axes[1].imshow(y_test.permute(0,2,3,1).cpu().detach().numpy()[index, ..., 0])"
      ],
      "execution_count": 0,
      "outputs": []
    },
    {
      "cell_type": "code",
      "metadata": {
        "id": "GyHAEjGJu2Xa",
        "colab_type": "code",
        "colab": {}
      },
      "source": [
        "class UNet(torch.nn.Module):\n",
        "    def __init__(self):\n",
        "        super(UNet, self).__init__()\n",
        "        \n",
        "        #Первая свертка\n",
        "        self.conv1_1 = torch.nn.Conv2d(in_channels=3, out_channels=32, kernel_size=3, padding=1)\n",
        "        self.act1_1  = torch.nn.ReLU()\n",
        "        \n",
        "        self.conv1_2 = torch.nn.Conv2d(in_channels=32, out_channels=32, kernel_size=3, padding=1)\n",
        "        self.act1_2  = torch.nn.ReLU()\n",
        "        \n",
        "        self.pool1 = torch.nn.MaxPool2d(kernel_size=2, stride=2)\n",
        "        \n",
        "        #Вторая свертка\n",
        "        self.conv2_1 = torch.nn.Conv2d(in_channels=32, out_channels=64, kernel_size=3, padding=1)\n",
        "        self.act2_1  = torch.nn.ReLU()\n",
        "        \n",
        "        self.conv2_2 = torch.nn.Conv2d(in_channels=64, out_channels=64, kernel_size=3, padding=1)\n",
        "        self.act2_2  = torch.nn.ReLU()\n",
        "        \n",
        "        self.pool2 = torch.nn.MaxPool2d(kernel_size=2, stride=2)\n",
        "        \n",
        "        #Третья свертка\n",
        "        self.conv3_1 = torch.nn.Conv2d(in_channels=64, out_channels=128, kernel_size=3, padding=1)\n",
        "        self.act3_1  = torch.nn.ReLU()\n",
        "        \n",
        "        self.conv3_2 = torch.nn.Conv2d(in_channels=128, out_channels=128, kernel_size=3, padding=1)\n",
        "        self.act3_2  = torch.nn.ReLU()\n",
        "        \n",
        "        self.pool3 = torch.nn.MaxPool2d(kernel_size=2, stride=2)\n",
        "        \n",
        "        #Четвертая свертка\n",
        "        self.conv4_1 = torch.nn.Conv2d(in_channels=128, out_channels=256, kernel_size=3, padding=1)\n",
        "        self.act4_1  = torch.nn.ReLU()\n",
        "        \n",
        "        self.conv4_2 = torch.nn.Conv2d(in_channels=256, out_channels=256, kernel_size=3, padding=1)\n",
        "        self.act4_2  = torch.nn.ReLU()\n",
        "        \n",
        "        self.pool4 = torch.nn.MaxPool2d(kernel_size=2, stride=2)\n",
        "        \n",
        "        #Апсемплинг 1\n",
        "        self.up_1 = torch.nn.UpsamplingBilinear2d(scale_factor=2)\n",
        "        \n",
        "        self.conv_up1_1 = torch.nn.Conv2d(in_channels=512, out_channels=256, kernel_size=3, padding=1)\n",
        "        self.act_up1_1  = torch.nn.ReLU()\n",
        "        \n",
        "        self.conv_up1_2 = torch.nn.Conv2d(in_channels=256, out_channels=256, kernel_size=3, padding=1)\n",
        "        self.act_up1_2  = torch.nn.ReLU()\n",
        "        \n",
        "        #Апсемплинг 2\n",
        "        self.up_2 = torch.nn.UpsamplingBilinear2d(scale_factor=2)\n",
        "        \n",
        "        self.conv_up2_1 = torch.nn.Conv2d(in_channels=384, out_channels=128, kernel_size=3, padding=1)\n",
        "        self.act_up2_1  = torch.nn.ReLU()\n",
        "        \n",
        "        self.conv_up2_2 = torch.nn.Conv2d(in_channels=128, out_channels=128, kernel_size=3, padding=1)\n",
        "        self.act_up2_2  = torch.nn.ReLU()\n",
        "        \n",
        "        #Апсемплинг 3\n",
        "        self.up_3 = torch.nn.UpsamplingBilinear2d(scale_factor=2)\n",
        "        \n",
        "        self.conv_up3_1 = torch.nn.Conv2d(in_channels=192, out_channels=64, kernel_size=3, padding=1)\n",
        "        self.act_up3_1  = torch.nn.ReLU()\n",
        "        \n",
        "        self.conv_up3_2 = torch.nn.Conv2d(in_channels=64, out_channels=64, kernel_size=3, padding=1)\n",
        "        self.act_up3_2  = torch.nn.ReLU()\n",
        "        \n",
        "        #Апсемплинг 3\n",
        "        self.up_4 = torch.nn.UpsamplingBilinear2d(scale_factor=2)\n",
        "        \n",
        "        self.conv_up4_1 = torch.nn.Conv2d(in_channels=96, out_channels=32, kernel_size=3, padding=1)\n",
        "        self.act_up4_1  = torch.nn.ReLU()\n",
        "        \n",
        "        self.conv_up4_2 = torch.nn.Conv2d(in_channels=32, out_channels=1, kernel_size=3, padding=1)\n",
        "        self.act_up4_2  = torch.nn.Sigmoid()\n",
        "        \n",
        "    def forward(self, x):\n",
        "        x = self.conv1_1(x)\n",
        "        x = self.act1_1(x)\n",
        "        x = self.conv1_2(x)\n",
        "        x, xc1 = self.act1_2(x), self.act1_2(x)\n",
        "        x = self.pool1(x)\n",
        "        \n",
        "        x = self.conv2_1(x)\n",
        "        x = self.act2_1(x)\n",
        "        x = self.conv2_2(x)\n",
        "        x, xc2 = self.act2_2(x), self.act2_2(x)\n",
        "        x = self.pool2(x)\n",
        "        \n",
        "        x = self.conv3_1(x)\n",
        "        x = self.act3_1(x)\n",
        "        x = self.conv3_2(x)\n",
        "        x, xc3 = self.act3_2(x), self.act3_2(x)\n",
        "        x = self.pool3(x)\n",
        "        \n",
        "        x = self.conv4_1(x)\n",
        "        x = self.act4_1(x)\n",
        "        x = self.conv4_2(x)\n",
        "        x, xc4 = self.act4_2(x), self.act4_2(x)\n",
        "        x = self.pool4(x)\n",
        "        \n",
        "        x, xup1 = self.up_1(x), self.up_1(x)\n",
        "        conc1 = torch.cat([xc4, xup1], dim=1)\n",
        "        x = self.conv_up1_1(conc1)\n",
        "        x = self.act_up1_1(x)\n",
        "        x = self.conv_up1_2(x)\n",
        "        x = self.act_up1_2(x)\n",
        "        \n",
        "        x, xup2 = self.up_2(x), self.up_2(x)\n",
        "        conc2 = torch.cat([xc3, xup2], dim=1)\n",
        "        x = self.conv_up2_1(conc2)\n",
        "        x = self.act_up2_1(x)\n",
        "        x = self.conv_up2_2(x)\n",
        "        x = self.act_up2_2(x)\n",
        "        \n",
        "        x, xup3 = self.up_3(x), self.up_3(x)\n",
        "        conc3 = torch.cat([xc2, xup3], dim=1)\n",
        "        x = self.conv_up3_1(conc3)\n",
        "        x = self.act_up3_1(x)\n",
        "        x = self.conv_up3_2(x)\n",
        "        x = self.act_up3_2(x)\n",
        "        \n",
        "        x, xup4 = self.up_4(x), self.up_4(x)\n",
        "        conc4 = torch.cat([xc1, xup4], dim=1)\n",
        "        x = self.conv_up4_1(conc4)\n",
        "        x = self.act_up4_1(x)\n",
        "        x = self.conv_up4_2(x)\n",
        "        x = self.act_up4_2(x)\n",
        "        \n",
        "        return x"
      ],
      "execution_count": 0,
      "outputs": []
    },
    {
      "cell_type": "code",
      "metadata": {
        "id": "x34yX3gqu22v",
        "colab_type": "code",
        "colab": {}
      },
      "source": [
        "unet = UNet()\n",
        "unet = unet.to(device)"
      ],
      "execution_count": 0,
      "outputs": []
    },
    {
      "cell_type": "code",
      "metadata": {
        "id": "bmNqwnC9vAOF",
        "colab_type": "code",
        "outputId": "193415b1-7a68-46bc-a196-25bb059edf46",
        "colab": {
          "base_uri": "https://localhost:8080/",
          "height": 442
        }
      },
      "source": [
        "train(unet, 16, X_train, y_train, X_test, y_test)"
      ],
      "execution_count": 0,
      "outputs": [
        {
          "output_type": "stream",
          "text": [
            "tensor(0.3342, device='cuda:0', grad_fn=<BinaryCrossEntropyBackward>)\n",
            "tensor(0.4129, device='cuda:0', grad_fn=<BinaryCrossEntropyBackward>)\n",
            "tensor(0.3129, device='cuda:0', grad_fn=<BinaryCrossEntropyBackward>)\n",
            "tensor(0.1656, device='cuda:0', grad_fn=<BinaryCrossEntropyBackward>)\n",
            "tensor(0.1300, device='cuda:0', grad_fn=<BinaryCrossEntropyBackward>)\n",
            "tensor(0.1142, device='cuda:0', grad_fn=<BinaryCrossEntropyBackward>)\n",
            "tensor(0.0969, device='cuda:0', grad_fn=<BinaryCrossEntropyBackward>)\n",
            "tensor(0.0641, device='cuda:0', grad_fn=<BinaryCrossEntropyBackward>)\n",
            "tensor(0.0471, device='cuda:0', grad_fn=<BinaryCrossEntropyBackward>)\n",
            "tensor(0.0526, device='cuda:0', grad_fn=<BinaryCrossEntropyBackward>)\n",
            "tensor(0.0388, device='cuda:0', grad_fn=<BinaryCrossEntropyBackward>)\n",
            "tensor(0.0339, device='cuda:0', grad_fn=<BinaryCrossEntropyBackward>)\n",
            "tensor(0.0390, device='cuda:0', grad_fn=<BinaryCrossEntropyBackward>)\n",
            "tensor(0.0323, device='cuda:0', grad_fn=<BinaryCrossEntropyBackward>)\n",
            "tensor(0.0295, device='cuda:0', grad_fn=<BinaryCrossEntropyBackward>)\n",
            "tensor(0.0279, device='cuda:0', grad_fn=<BinaryCrossEntropyBackward>)\n",
            "tensor(0.0272, device='cuda:0', grad_fn=<BinaryCrossEntropyBackward>)\n",
            "tensor(0.0260, device='cuda:0', grad_fn=<BinaryCrossEntropyBackward>)\n",
            "tensor(0.0232, device='cuda:0', grad_fn=<BinaryCrossEntropyBackward>)\n",
            "tensor(0.0222, device='cuda:0', grad_fn=<BinaryCrossEntropyBackward>)\n",
            "tensor(0.0215, device='cuda:0', grad_fn=<BinaryCrossEntropyBackward>)\n",
            "tensor(0.0242, device='cuda:0', grad_fn=<BinaryCrossEntropyBackward>)\n",
            "tensor(0.0224, device='cuda:0', grad_fn=<BinaryCrossEntropyBackward>)\n",
            "tensor(0.0201, device='cuda:0', grad_fn=<BinaryCrossEntropyBackward>)\n",
            "tensor(0.0218, device='cuda:0', grad_fn=<BinaryCrossEntropyBackward>)\n"
          ],
          "name": "stdout"
        }
      ]
    },
    {
      "cell_type": "code",
      "metadata": {
        "id": "YmWANLgC1UoE",
        "colab_type": "code",
        "colab": {}
      },
      "source": [
        "pred = unet.forward(X_test[:5].to(device))\n",
        "pred = pred.permute(0,2,3,1)"
      ],
      "execution_count": 0,
      "outputs": []
    },
    {
      "cell_type": "code",
      "metadata": {
        "id": "j-CuEQExvDea",
        "colab_type": "code",
        "outputId": "1bd8762d-270b-43fb-a700-34acf309f113",
        "colab": {
          "base_uri": "https://localhost:8080/",
          "height": 305
        }
      },
      "source": [
        "show_result(pred, 2)"
      ],
      "execution_count": 0,
      "outputs": [
        {
          "output_type": "display_data",
          "data": {
            "image/png": "[encoded data removed]",
            "text/plain": [
              "<Figure size 720x720 with 2 Axes>"
            ]
          },
          "metadata": {
            "tags": [],
            "needs_background": "light"
          }
        }
      ]
    }
  ]
}